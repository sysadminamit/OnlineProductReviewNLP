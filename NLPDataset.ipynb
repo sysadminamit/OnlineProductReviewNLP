{
  "nbformat": 4,
  "nbformat_minor": 0,
  "metadata": {
    "colab": {
      "name": "NLPDataset.ipynb",
      "version": "0.3.2",
      "provenance": []
    },
    "kernelspec": {
      "name": "python3",
      "display_name": "Python 3"
    },
    "accelerator": "GPU"
  },
  "cells": [
    {
      "cell_type": "code",
      "metadata": {
        "id": "lX6Wbuqd15Bb",
        "colab_type": "code",
        "outputId": "e4eaad63-0cab-49b3-cc6c-827370609afa",
        "colab": {
          "base_uri": "https://localhost:8080/",
          "height": 202
        }
      },
      "source": [
        "!wget http://snap.stanford.edu/data/amazon/productGraph/categoryFiles/reviews_Electronics_5.json.gz"
      ],
      "execution_count": 0,
      "outputs": [
        {
          "output_type": "stream",
          "text": [
            "--2019-06-20 12:02:13--  http://snap.stanford.edu/data/amazon/productGraph/categoryFiles/reviews_Electronics_5.json.gz\n",
            "Resolving snap.stanford.edu (snap.stanford.edu)... 171.64.75.80\n",
            "Connecting to snap.stanford.edu (snap.stanford.edu)|171.64.75.80|:80... connected.\n",
            "HTTP request sent, awaiting response... 200 OK\n",
            "Length: 495854086 (473M) [application/x-gzip]\n",
            "Saving to: ‘reviews_Electronics_5.json.gz’\n",
            "\n",
            "reviews_Electronics 100%[===================>] 472.88M  3.52MB/s    in 1m 52s  \n",
            "\n",
            "2019-06-20 12:04:06 (4.21 MB/s) - ‘reviews_Electronics_5.json.gz’ saved [495854086/495854086]\n",
            "\n"
          ],
          "name": "stdout"
        }
      ]
    },
    {
      "cell_type": "code",
      "metadata": {
        "id": "m2P1W-Iy2ZMI",
        "colab_type": "code",
        "outputId": "327b3379-6400-4ffe-edb5-92f5385ff60f",
        "colab": {
          "base_uri": "https://localhost:8080/",
          "height": 34
        }
      },
      "source": [
        "!ls"
      ],
      "execution_count": 0,
      "outputs": [
        {
          "output_type": "stream",
          "text": [
            "reviews_Electronics_5.json.gz  sample_data\n"
          ],
          "name": "stdout"
        }
      ]
    },
    {
      "cell_type": "code",
      "metadata": {
        "id": "sWmlG2RgaA2-",
        "colab_type": "code",
        "outputId": "ff98f4ef-811c-4ed1-cfa8-7a20663da241",
        "colab": {
          "base_uri": "https://localhost:8080/",
          "height": 296
        }
      },
      "source": [
        "import pandas as pd\n",
        "import os\n",
        "fn = 'reviews_Electronics_5.json.gz'\n",
        "print(os.path.isfile(fn))\n",
        "df = pd.read_json(fn, lines=True, compression='gzip')\n",
        "df.head()"
      ],
      "execution_count": 0,
      "outputs": [
        {
          "output_type": "stream",
          "text": [
            "True\n"
          ],
          "name": "stdout"
        },
        {
          "output_type": "execute_result",
          "data": {
            "text/html": [
              "<div>\n",
              "<style scoped>\n",
              "    .dataframe tbody tr th:only-of-type {\n",
              "        vertical-align: middle;\n",
              "    }\n",
              "\n",
              "    .dataframe tbody tr th {\n",
              "        vertical-align: top;\n",
              "    }\n",
              "\n",
              "    .dataframe thead th {\n",
              "        text-align: right;\n",
              "    }\n",
              "</style>\n",
              "<table border=\"1\" class=\"dataframe\">\n",
              "  <thead>\n",
              "    <tr style=\"text-align: right;\">\n",
              "      <th></th>\n",
              "      <th>asin</th>\n",
              "      <th>helpful</th>\n",
              "      <th>overall</th>\n",
              "      <th>reviewText</th>\n",
              "      <th>reviewTime</th>\n",
              "      <th>reviewerID</th>\n",
              "      <th>reviewerName</th>\n",
              "      <th>summary</th>\n",
              "      <th>unixReviewTime</th>\n",
              "    </tr>\n",
              "  </thead>\n",
              "  <tbody>\n",
              "    <tr>\n",
              "      <th>0</th>\n",
              "      <td>0528881469</td>\n",
              "      <td>[0, 0]</td>\n",
              "      <td>5</td>\n",
              "      <td>We got this GPS for my husband who is an (OTR)...</td>\n",
              "      <td>06 2, 2013</td>\n",
              "      <td>AO94DHGC771SJ</td>\n",
              "      <td>amazdnu</td>\n",
              "      <td>Gotta have GPS!</td>\n",
              "      <td>1370131200</td>\n",
              "    </tr>\n",
              "    <tr>\n",
              "      <th>1</th>\n",
              "      <td>0528881469</td>\n",
              "      <td>[12, 15]</td>\n",
              "      <td>1</td>\n",
              "      <td>I'm a professional OTR truck driver, and I bou...</td>\n",
              "      <td>11 25, 2010</td>\n",
              "      <td>AMO214LNFCEI4</td>\n",
              "      <td>Amazon Customer</td>\n",
              "      <td>Very Disappointed</td>\n",
              "      <td>1290643200</td>\n",
              "    </tr>\n",
              "    <tr>\n",
              "      <th>2</th>\n",
              "      <td>0528881469</td>\n",
              "      <td>[43, 45]</td>\n",
              "      <td>3</td>\n",
              "      <td>Well, what can I say.  I've had this unit in m...</td>\n",
              "      <td>09 9, 2010</td>\n",
              "      <td>A3N7T0DY83Y4IG</td>\n",
              "      <td>C. A. Freeman</td>\n",
              "      <td>1st impression</td>\n",
              "      <td>1283990400</td>\n",
              "    </tr>\n",
              "    <tr>\n",
              "      <th>3</th>\n",
              "      <td>0528881469</td>\n",
              "      <td>[9, 10]</td>\n",
              "      <td>2</td>\n",
              "      <td>Not going to write a long review, even thought...</td>\n",
              "      <td>11 24, 2010</td>\n",
              "      <td>A1H8PY3QHMQQA0</td>\n",
              "      <td>Dave M. Shaw \"mack dave\"</td>\n",
              "      <td>Great grafics, POOR GPS</td>\n",
              "      <td>1290556800</td>\n",
              "    </tr>\n",
              "    <tr>\n",
              "      <th>4</th>\n",
              "      <td>0528881469</td>\n",
              "      <td>[0, 0]</td>\n",
              "      <td>1</td>\n",
              "      <td>I've had mine for a year and here's what we go...</td>\n",
              "      <td>09 29, 2011</td>\n",
              "      <td>A24EV6RXELQZ63</td>\n",
              "      <td>Wayne Smith</td>\n",
              "      <td>Major issues, only excuses for support</td>\n",
              "      <td>1317254400</td>\n",
              "    </tr>\n",
              "  </tbody>\n",
              "</table>\n",
              "</div>"
            ],
            "text/plain": [
              "         asin   helpful  ...                                 summary unixReviewTime\n",
              "0  0528881469    [0, 0]  ...                         Gotta have GPS!     1370131200\n",
              "1  0528881469  [12, 15]  ...                       Very Disappointed     1290643200\n",
              "2  0528881469  [43, 45]  ...                          1st impression     1283990400\n",
              "3  0528881469   [9, 10]  ...                 Great grafics, POOR GPS     1290556800\n",
              "4  0528881469    [0, 0]  ...  Major issues, only excuses for support     1317254400\n",
              "\n",
              "[5 rows x 9 columns]"
            ]
          },
          "metadata": {
            "tags": []
          },
          "execution_count": 2
        }
      ]
    },
    {
      "cell_type": "code",
      "metadata": {
        "id": "as5p4L6M4RnE",
        "colab_type": "code",
        "outputId": "591f9115-7056-4894-c061-a74affecad3f",
        "colab": {
          "base_uri": "https://localhost:8080/",
          "height": 34
        }
      },
      "source": [
        "#file_name = ElectronicsProductReviewCSV.csv\n",
        "data = df.to_csv('ElectronicsProductReviewCSV.csv')\n",
        "'''from google.colab import files\n",
        "files.download('ElectronicsProductReviewCSV.csv') '''"
      ],
      "execution_count": 0,
      "outputs": [
        {
          "output_type": "execute_result",
          "data": {
            "text/plain": [
              "\"from google.colab import files\\nfiles.download('ElectronicsProductReviewCSV.csv') \""
            ]
          },
          "metadata": {
            "tags": []
          },
          "execution_count": 3
        }
      ]
    },
    {
      "cell_type": "code",
      "metadata": {
        "id": "2kILuB212rIk",
        "colab_type": "code",
        "colab": {}
      },
      "source": [
        "dataset = pd.read_csv('ElectronicsProductReviewCSV.csv')"
      ],
      "execution_count": 0,
      "outputs": []
    },
    {
      "cell_type": "code",
      "metadata": {
        "id": "x62Mc6lv7jXk",
        "colab_type": "code",
        "outputId": "7d0d2bf2-099b-4c6f-bad2-e3f601fd4110",
        "colab": {
          "base_uri": "https://localhost:8080/",
          "height": 330
        }
      },
      "source": [
        "dataset.head()"
      ],
      "execution_count": 0,
      "outputs": [
        {
          "output_type": "execute_result",
          "data": {
            "text/html": [
              "<div>\n",
              "<style scoped>\n",
              "    .dataframe tbody tr th:only-of-type {\n",
              "        vertical-align: middle;\n",
              "    }\n",
              "\n",
              "    .dataframe tbody tr th {\n",
              "        vertical-align: top;\n",
              "    }\n",
              "\n",
              "    .dataframe thead th {\n",
              "        text-align: right;\n",
              "    }\n",
              "</style>\n",
              "<table border=\"1\" class=\"dataframe\">\n",
              "  <thead>\n",
              "    <tr style=\"text-align: right;\">\n",
              "      <th></th>\n",
              "      <th>Unnamed: 0</th>\n",
              "      <th>asin</th>\n",
              "      <th>helpful</th>\n",
              "      <th>overall</th>\n",
              "      <th>reviewText</th>\n",
              "      <th>reviewTime</th>\n",
              "      <th>reviewerID</th>\n",
              "      <th>reviewerName</th>\n",
              "      <th>summary</th>\n",
              "      <th>unixReviewTime</th>\n",
              "    </tr>\n",
              "  </thead>\n",
              "  <tbody>\n",
              "    <tr>\n",
              "      <th>0</th>\n",
              "      <td>0</td>\n",
              "      <td>0528881469</td>\n",
              "      <td>[0, 0]</td>\n",
              "      <td>5</td>\n",
              "      <td>We got this GPS for my husband who is an (OTR)...</td>\n",
              "      <td>06 2, 2013</td>\n",
              "      <td>AO94DHGC771SJ</td>\n",
              "      <td>amazdnu</td>\n",
              "      <td>Gotta have GPS!</td>\n",
              "      <td>1370131200</td>\n",
              "    </tr>\n",
              "    <tr>\n",
              "      <th>1</th>\n",
              "      <td>1</td>\n",
              "      <td>0528881469</td>\n",
              "      <td>[12, 15]</td>\n",
              "      <td>1</td>\n",
              "      <td>I'm a professional OTR truck driver, and I bou...</td>\n",
              "      <td>11 25, 2010</td>\n",
              "      <td>AMO214LNFCEI4</td>\n",
              "      <td>Amazon Customer</td>\n",
              "      <td>Very Disappointed</td>\n",
              "      <td>1290643200</td>\n",
              "    </tr>\n",
              "    <tr>\n",
              "      <th>2</th>\n",
              "      <td>2</td>\n",
              "      <td>0528881469</td>\n",
              "      <td>[43, 45]</td>\n",
              "      <td>3</td>\n",
              "      <td>Well, what can I say.  I've had this unit in m...</td>\n",
              "      <td>09 9, 2010</td>\n",
              "      <td>A3N7T0DY83Y4IG</td>\n",
              "      <td>C. A. Freeman</td>\n",
              "      <td>1st impression</td>\n",
              "      <td>1283990400</td>\n",
              "    </tr>\n",
              "    <tr>\n",
              "      <th>3</th>\n",
              "      <td>3</td>\n",
              "      <td>0528881469</td>\n",
              "      <td>[9, 10]</td>\n",
              "      <td>2</td>\n",
              "      <td>Not going to write a long review, even thought...</td>\n",
              "      <td>11 24, 2010</td>\n",
              "      <td>A1H8PY3QHMQQA0</td>\n",
              "      <td>Dave M. Shaw \"mack dave\"</td>\n",
              "      <td>Great grafics, POOR GPS</td>\n",
              "      <td>1290556800</td>\n",
              "    </tr>\n",
              "    <tr>\n",
              "      <th>4</th>\n",
              "      <td>4</td>\n",
              "      <td>0528881469</td>\n",
              "      <td>[0, 0]</td>\n",
              "      <td>1</td>\n",
              "      <td>I've had mine for a year and here's what we go...</td>\n",
              "      <td>09 29, 2011</td>\n",
              "      <td>A24EV6RXELQZ63</td>\n",
              "      <td>Wayne Smith</td>\n",
              "      <td>Major issues, only excuses for support</td>\n",
              "      <td>1317254400</td>\n",
              "    </tr>\n",
              "  </tbody>\n",
              "</table>\n",
              "</div>"
            ],
            "text/plain": [
              "   Unnamed: 0  ... unixReviewTime\n",
              "0           0  ...     1370131200\n",
              "1           1  ...     1290643200\n",
              "2           2  ...     1283990400\n",
              "3           3  ...     1290556800\n",
              "4           4  ...     1317254400\n",
              "\n",
              "[5 rows x 10 columns]"
            ]
          },
          "metadata": {
            "tags": []
          },
          "execution_count": 5
        }
      ]
    },
    {
      "cell_type": "code",
      "metadata": {
        "id": "EtGIuYpI7re0",
        "colab_type": "code",
        "outputId": "c5a6550f-8675-4637-ecf8-5bf844783c3c",
        "colab": {
          "base_uri": "https://localhost:8080/",
          "height": 34
        }
      },
      "source": [
        "dataset.shape"
      ],
      "execution_count": 0,
      "outputs": [
        {
          "output_type": "execute_result",
          "data": {
            "text/plain": [
              "(1689188, 10)"
            ]
          },
          "metadata": {
            "tags": []
          },
          "execution_count": 6
        }
      ]
    },
    {
      "cell_type": "code",
      "metadata": {
        "id": "_LVGHFk1vzIs",
        "colab_type": "code",
        "colab": {}
      },
      "source": [
        "dataset = dataset.dropna()"
      ],
      "execution_count": 0,
      "outputs": []
    },
    {
      "cell_type": "code",
      "metadata": {
        "id": "75NiFYNc7uSj",
        "colab_type": "code",
        "outputId": "4f331827-0cd5-4c53-d7ed-63612b06aeaf",
        "colab": {
          "base_uri": "https://localhost:8080/",
          "height": 50
        }
      },
      "source": [
        "print(\"No of NaN values in asin columns\")\n",
        "dataset['asin'].isnull().sum(axis = 0)"
      ],
      "execution_count": 0,
      "outputs": [
        {
          "output_type": "stream",
          "text": [
            "No of NaN values in asin columns\n"
          ],
          "name": "stdout"
        },
        {
          "output_type": "execute_result",
          "data": {
            "text/plain": [
              "0"
            ]
          },
          "metadata": {
            "tags": []
          },
          "execution_count": 8
        }
      ]
    },
    {
      "cell_type": "code",
      "metadata": {
        "id": "37NTLzLR95Lc",
        "colab_type": "code",
        "outputId": "0da373ef-cfa0-4234-8fe4-08c0a1b7343d",
        "colab": {
          "base_uri": "https://localhost:8080/",
          "height": 50
        }
      },
      "source": [
        "print(\"No of NaN values in helpful columns\")\n",
        "dataset['helpful'].isnull().sum(axis = 0)"
      ],
      "execution_count": 0,
      "outputs": [
        {
          "output_type": "stream",
          "text": [
            "No of NaN values in helpful columns\n"
          ],
          "name": "stdout"
        },
        {
          "output_type": "execute_result",
          "data": {
            "text/plain": [
              "0"
            ]
          },
          "metadata": {
            "tags": []
          },
          "execution_count": 9
        }
      ]
    },
    {
      "cell_type": "code",
      "metadata": {
        "id": "rdSxN48f-kNj",
        "colab_type": "code",
        "outputId": "07eed9ba-22c0-42d1-a0b0-2f2fcf74dc46",
        "colab": {
          "base_uri": "https://localhost:8080/",
          "height": 50
        }
      },
      "source": [
        "print(\"No of NaN values in overall columns\")\n",
        "dataset['overall'].isnull().sum(axis = 0)"
      ],
      "execution_count": 0,
      "outputs": [
        {
          "output_type": "stream",
          "text": [
            "No of NaN values in overall columns\n"
          ],
          "name": "stdout"
        },
        {
          "output_type": "execute_result",
          "data": {
            "text/plain": [
              "0"
            ]
          },
          "metadata": {
            "tags": []
          },
          "execution_count": 10
        }
      ]
    },
    {
      "cell_type": "code",
      "metadata": {
        "id": "H6ovdfpi-nhM",
        "colab_type": "code",
        "outputId": "983b9f4a-acdb-4187-8488-9ff42c3e2756",
        "colab": {
          "base_uri": "https://localhost:8080/",
          "height": 50
        }
      },
      "source": [
        "print(\"No of NaN values in reviewText columns\")\n",
        "dataset['reviewText'].isnull().sum(axis = 0)"
      ],
      "execution_count": 0,
      "outputs": [
        {
          "output_type": "stream",
          "text": [
            "No of NaN values in reviewText columns\n"
          ],
          "name": "stdout"
        },
        {
          "output_type": "execute_result",
          "data": {
            "text/plain": [
              "0"
            ]
          },
          "metadata": {
            "tags": []
          },
          "execution_count": 11
        }
      ]
    },
    {
      "cell_type": "code",
      "metadata": {
        "id": "xNVbVUui-raA",
        "colab_type": "code",
        "outputId": "c1ebd6f8-6e54-4d5c-c12f-9e16e5696941",
        "colab": {
          "base_uri": "https://localhost:8080/",
          "height": 50
        }
      },
      "source": [
        "print(\"No of NaN values in reviewTime columns\")\n",
        "dataset['reviewTime'].isnull().sum(axis = 0)"
      ],
      "execution_count": 0,
      "outputs": [
        {
          "output_type": "stream",
          "text": [
            "No of NaN values in reviewTime columns\n"
          ],
          "name": "stdout"
        },
        {
          "output_type": "execute_result",
          "data": {
            "text/plain": [
              "0"
            ]
          },
          "metadata": {
            "tags": []
          },
          "execution_count": 12
        }
      ]
    },
    {
      "cell_type": "code",
      "metadata": {
        "id": "cLguSU9D-00W",
        "colab_type": "code",
        "outputId": "2ce75557-c07a-4135-803b-073be85445a4",
        "colab": {
          "base_uri": "https://localhost:8080/",
          "height": 50
        }
      },
      "source": [
        "print(\"No of NaN values in reviewerID columns\")\n",
        "dataset['reviewerID'].isnull().sum(axis = 0)"
      ],
      "execution_count": 0,
      "outputs": [
        {
          "output_type": "stream",
          "text": [
            "No of NaN values in reviewerID columns\n"
          ],
          "name": "stdout"
        },
        {
          "output_type": "execute_result",
          "data": {
            "text/plain": [
              "0"
            ]
          },
          "metadata": {
            "tags": []
          },
          "execution_count": 13
        }
      ]
    },
    {
      "cell_type": "code",
      "metadata": {
        "id": "oBhak79n-4d0",
        "colab_type": "code",
        "outputId": "e4d1fa0b-7a6d-4730-8c33-8d2303547b9e",
        "colab": {
          "base_uri": "https://localhost:8080/",
          "height": 50
        }
      },
      "source": [
        "print(\"No of NaN values in reviewTime columns\")\n",
        "dataset['reviewTime'].isnull().sum(axis = 0)"
      ],
      "execution_count": 0,
      "outputs": [
        {
          "output_type": "stream",
          "text": [
            "No of NaN values in reviewTime columns\n"
          ],
          "name": "stdout"
        },
        {
          "output_type": "execute_result",
          "data": {
            "text/plain": [
              "0"
            ]
          },
          "metadata": {
            "tags": []
          },
          "execution_count": 14
        }
      ]
    },
    {
      "cell_type": "code",
      "metadata": {
        "id": "OkJC1kfK-5eo",
        "colab_type": "code",
        "outputId": "776d9a7b-0af7-4544-be79-3f8b50337b08",
        "colab": {
          "base_uri": "https://localhost:8080/",
          "height": 50
        }
      },
      "source": [
        "print(\"No of NaN values in reviewerName columns\")\n",
        "dataset['reviewerName'].isnull().sum(axis = 0)"
      ],
      "execution_count": 0,
      "outputs": [
        {
          "output_type": "stream",
          "text": [
            "No of NaN values in reviewerName columns\n"
          ],
          "name": "stdout"
        },
        {
          "output_type": "execute_result",
          "data": {
            "text/plain": [
              "0"
            ]
          },
          "metadata": {
            "tags": []
          },
          "execution_count": 15
        }
      ]
    },
    {
      "cell_type": "code",
      "metadata": {
        "id": "KaZr2Ii8-60r",
        "colab_type": "code",
        "outputId": "13395e5d-0146-4476-dc3e-ba23dd799765",
        "colab": {
          "base_uri": "https://localhost:8080/",
          "height": 50
        }
      },
      "source": [
        "print(\"No of NaN values in summary columns\")\n",
        "dataset['summary'].isnull().sum(axis = 0)"
      ],
      "execution_count": 0,
      "outputs": [
        {
          "output_type": "stream",
          "text": [
            "No of NaN values in summary columns\n"
          ],
          "name": "stdout"
        },
        {
          "output_type": "execute_result",
          "data": {
            "text/plain": [
              "0"
            ]
          },
          "metadata": {
            "tags": []
          },
          "execution_count": 16
        }
      ]
    },
    {
      "cell_type": "code",
      "metadata": {
        "id": "U81zDZtI_VJ_",
        "colab_type": "code",
        "outputId": "d1869fb8-b20c-4fdb-9aea-af35c6e8ab46",
        "colab": {
          "base_uri": "https://localhost:8080/",
          "height": 50
        }
      },
      "source": [
        "print(\"No of NaN values in unixReviewTime columns\")\n",
        "dataset['unixReviewTime'].isnull().sum(axis = 0)"
      ],
      "execution_count": 0,
      "outputs": [
        {
          "output_type": "stream",
          "text": [
            "No of NaN values in unixReviewTime columns\n"
          ],
          "name": "stdout"
        },
        {
          "output_type": "execute_result",
          "data": {
            "text/plain": [
              "0"
            ]
          },
          "metadata": {
            "tags": []
          },
          "execution_count": 17
        }
      ]
    },
    {
      "cell_type": "code",
      "metadata": {
        "id": "8zSYt2qZF6Nk",
        "colab_type": "code",
        "colab": {}
      },
      "source": [
        "dataset[['helpulobtained','totalhelpfulscore']] = pd.DataFrame(dataset['helpful'].str.split().values.tolist())"
      ],
      "execution_count": 0,
      "outputs": []
    },
    {
      "cell_type": "code",
      "metadata": {
        "id": "imnOVD9WIQ4r",
        "colab_type": "code",
        "outputId": "5fb9dfd1-f1f2-4643-d033-9adf38ba2d48",
        "colab": {
          "base_uri": "https://localhost:8080/",
          "height": 551
        }
      },
      "source": [
        "dataset.head()"
      ],
      "execution_count": 0,
      "outputs": [
        {
          "output_type": "execute_result",
          "data": {
            "text/html": [
              "<div>\n",
              "<style scoped>\n",
              "    .dataframe tbody tr th:only-of-type {\n",
              "        vertical-align: middle;\n",
              "    }\n",
              "\n",
              "    .dataframe tbody tr th {\n",
              "        vertical-align: top;\n",
              "    }\n",
              "\n",
              "    .dataframe thead th {\n",
              "        text-align: right;\n",
              "    }\n",
              "</style>\n",
              "<table border=\"1\" class=\"dataframe\">\n",
              "  <thead>\n",
              "    <tr style=\"text-align: right;\">\n",
              "      <th></th>\n",
              "      <th>Unnamed: 0</th>\n",
              "      <th>asin</th>\n",
              "      <th>helpful</th>\n",
              "      <th>overall</th>\n",
              "      <th>reviewText</th>\n",
              "      <th>reviewTime</th>\n",
              "      <th>reviewerID</th>\n",
              "      <th>reviewerName</th>\n",
              "      <th>summary</th>\n",
              "      <th>unixReviewTime</th>\n",
              "      <th>helpulobtained</th>\n",
              "      <th>totalhelpfulscore</th>\n",
              "    </tr>\n",
              "  </thead>\n",
              "  <tbody>\n",
              "    <tr>\n",
              "      <th>0</th>\n",
              "      <td>0</td>\n",
              "      <td>0528881469</td>\n",
              "      <td>[0, 0]</td>\n",
              "      <td>5</td>\n",
              "      <td>We got this GPS for my husband who is an (OTR)...</td>\n",
              "      <td>06 2, 2013</td>\n",
              "      <td>AO94DHGC771SJ</td>\n",
              "      <td>amazdnu</td>\n",
              "      <td>Gotta have GPS!</td>\n",
              "      <td>1370131200</td>\n",
              "      <td>[0,</td>\n",
              "      <td>0]</td>\n",
              "    </tr>\n",
              "    <tr>\n",
              "      <th>1</th>\n",
              "      <td>1</td>\n",
              "      <td>0528881469</td>\n",
              "      <td>[12, 15]</td>\n",
              "      <td>1</td>\n",
              "      <td>I'm a professional OTR truck driver, and I bou...</td>\n",
              "      <td>11 25, 2010</td>\n",
              "      <td>AMO214LNFCEI4</td>\n",
              "      <td>Amazon Customer</td>\n",
              "      <td>Very Disappointed</td>\n",
              "      <td>1290643200</td>\n",
              "      <td>[12,</td>\n",
              "      <td>15]</td>\n",
              "    </tr>\n",
              "    <tr>\n",
              "      <th>2</th>\n",
              "      <td>2</td>\n",
              "      <td>0528881469</td>\n",
              "      <td>[43, 45]</td>\n",
              "      <td>3</td>\n",
              "      <td>Well, what can I say.  I've had this unit in m...</td>\n",
              "      <td>09 9, 2010</td>\n",
              "      <td>A3N7T0DY83Y4IG</td>\n",
              "      <td>C. A. Freeman</td>\n",
              "      <td>1st impression</td>\n",
              "      <td>1283990400</td>\n",
              "      <td>[43,</td>\n",
              "      <td>45]</td>\n",
              "    </tr>\n",
              "    <tr>\n",
              "      <th>3</th>\n",
              "      <td>3</td>\n",
              "      <td>0528881469</td>\n",
              "      <td>[9, 10]</td>\n",
              "      <td>2</td>\n",
              "      <td>Not going to write a long review, even thought...</td>\n",
              "      <td>11 24, 2010</td>\n",
              "      <td>A1H8PY3QHMQQA0</td>\n",
              "      <td>Dave M. Shaw \"mack dave\"</td>\n",
              "      <td>Great grafics, POOR GPS</td>\n",
              "      <td>1290556800</td>\n",
              "      <td>[9,</td>\n",
              "      <td>10]</td>\n",
              "    </tr>\n",
              "    <tr>\n",
              "      <th>4</th>\n",
              "      <td>4</td>\n",
              "      <td>0528881469</td>\n",
              "      <td>[0, 0]</td>\n",
              "      <td>1</td>\n",
              "      <td>I've had mine for a year and here's what we go...</td>\n",
              "      <td>09 29, 2011</td>\n",
              "      <td>A24EV6RXELQZ63</td>\n",
              "      <td>Wayne Smith</td>\n",
              "      <td>Major issues, only excuses for support</td>\n",
              "      <td>1317254400</td>\n",
              "      <td>[0,</td>\n",
              "      <td>0]</td>\n",
              "    </tr>\n",
              "  </tbody>\n",
              "</table>\n",
              "</div>"
            ],
            "text/plain": [
              "   Unnamed: 0        asin  ... helpulobtained  totalhelpfulscore\n",
              "0           0  0528881469  ...            [0,                 0]\n",
              "1           1  0528881469  ...           [12,                15]\n",
              "2           2  0528881469  ...           [43,                45]\n",
              "3           3  0528881469  ...            [9,                10]\n",
              "4           4  0528881469  ...            [0,                 0]\n",
              "\n",
              "[5 rows x 12 columns]"
            ]
          },
          "metadata": {
            "tags": []
          },
          "execution_count": 19
        }
      ]
    },
    {
      "cell_type": "code",
      "metadata": {
        "id": "c-_Yq2uTMyDH",
        "colab_type": "code",
        "colab": {}
      },
      "source": [
        "dataset[\"helpfulobtained\"] = dataset['helpulobtained'].str.replace('[^\\w\\s]','')"
      ],
      "execution_count": 0,
      "outputs": []
    },
    {
      "cell_type": "code",
      "metadata": {
        "id": "aH22NZKBO7Yx",
        "colab_type": "code",
        "colab": {}
      },
      "source": [
        "dataset[\"totalhelpfulScore\"] = dataset['totalhelpfulscore'].str.replace('[^\\w\\s]','')"
      ],
      "execution_count": 0,
      "outputs": []
    },
    {
      "cell_type": "code",
      "metadata": {
        "id": "zssaIUW6Pl03",
        "colab_type": "code",
        "colab": {}
      },
      "source": [
        "dataset = dataset.drop(['helpulobtained', 'totalhelpfulscore'], axis=1)"
      ],
      "execution_count": 0,
      "outputs": []
    },
    {
      "cell_type": "code",
      "metadata": {
        "id": "yQRpqSytQiZX",
        "colab_type": "code",
        "colab": {}
      },
      "source": [
        "dataset['helpfulobtained'] = pd.to_numeric(dataset['helpfulobtained'], errors='coerce')\n",
        "dataset = dataset.dropna(subset=['helpfulobtained'])\n",
        "dataset['helpfulobtained'] = dataset['helpfulobtained'].astype(int)\n"
      ],
      "execution_count": 0,
      "outputs": []
    },
    {
      "cell_type": "code",
      "metadata": {
        "id": "3GS30JPpTPic",
        "colab_type": "code",
        "colab": {}
      },
      "source": [
        "dataset['totalhelpfulScore'] = pd.to_numeric(dataset['totalhelpfulScore'], errors='coerce')\n",
        "dataset = dataset.dropna(subset=['totalhelpfulScore'])\n",
        "dataset['totalhelpfulScore'] = dataset['totalhelpfulScore'].astype(int)"
      ],
      "execution_count": 0,
      "outputs": []
    },
    {
      "cell_type": "code",
      "metadata": {
        "id": "CR5zbtZgTelH",
        "colab_type": "code",
        "colab": {}
      },
      "source": [
        "dataset['Helpfulfactor'] = dataset['helpfulobtained']/dataset['totalhelpfulScore']"
      ],
      "execution_count": 0,
      "outputs": []
    },
    {
      "cell_type": "code",
      "metadata": {
        "id": "alTVqDSAT2cB",
        "colab_type": "code",
        "colab": {}
      },
      "source": [
        "#dataset['Helpfulfactor'] = dataset['Helpfulfactor'].fillna(0)"
      ],
      "execution_count": 0,
      "outputs": []
    },
    {
      "cell_type": "code",
      "metadata": {
        "id": "39X_fd_SF3EO",
        "colab_type": "code",
        "colab": {}
      },
      "source": [
        "dataset[\"review\"] = dataset['reviewText'].str.replace('([^\\w\\s])','')"
      ],
      "execution_count": 0,
      "outputs": []
    },
    {
      "cell_type": "code",
      "metadata": {
        "id": "D7OlR1zIci-B",
        "colab_type": "code",
        "outputId": "2084097f-d762-4c86-cffd-df4f727a72cb",
        "colab": {
          "base_uri": "https://localhost:8080/",
          "height": 568
        }
      },
      "source": [
        "dataset.head()"
      ],
      "execution_count": 0,
      "outputs": [
        {
          "output_type": "execute_result",
          "data": {
            "text/html": [
              "<div>\n",
              "<style scoped>\n",
              "    .dataframe tbody tr th:only-of-type {\n",
              "        vertical-align: middle;\n",
              "    }\n",
              "\n",
              "    .dataframe tbody tr th {\n",
              "        vertical-align: top;\n",
              "    }\n",
              "\n",
              "    .dataframe thead th {\n",
              "        text-align: right;\n",
              "    }\n",
              "</style>\n",
              "<table border=\"1\" class=\"dataframe\">\n",
              "  <thead>\n",
              "    <tr style=\"text-align: right;\">\n",
              "      <th></th>\n",
              "      <th>Unnamed: 0</th>\n",
              "      <th>asin</th>\n",
              "      <th>helpful</th>\n",
              "      <th>overall</th>\n",
              "      <th>reviewText</th>\n",
              "      <th>reviewTime</th>\n",
              "      <th>reviewerID</th>\n",
              "      <th>reviewerName</th>\n",
              "      <th>summary</th>\n",
              "      <th>unixReviewTime</th>\n",
              "      <th>helpfulobtained</th>\n",
              "      <th>totalhelpfulScore</th>\n",
              "      <th>Helpfulfactor</th>\n",
              "      <th>review</th>\n",
              "    </tr>\n",
              "  </thead>\n",
              "  <tbody>\n",
              "    <tr>\n",
              "      <th>0</th>\n",
              "      <td>0</td>\n",
              "      <td>0528881469</td>\n",
              "      <td>[0, 0]</td>\n",
              "      <td>5</td>\n",
              "      <td>We got this GPS for my husband who is an (OTR)...</td>\n",
              "      <td>06 2, 2013</td>\n",
              "      <td>AO94DHGC771SJ</td>\n",
              "      <td>amazdnu</td>\n",
              "      <td>Gotta have GPS!</td>\n",
              "      <td>1370131200</td>\n",
              "      <td>0</td>\n",
              "      <td>0</td>\n",
              "      <td>NaN</td>\n",
              "      <td>We got this GPS for my husband who is an OTR o...</td>\n",
              "    </tr>\n",
              "    <tr>\n",
              "      <th>1</th>\n",
              "      <td>1</td>\n",
              "      <td>0528881469</td>\n",
              "      <td>[12, 15]</td>\n",
              "      <td>1</td>\n",
              "      <td>I'm a professional OTR truck driver, and I bou...</td>\n",
              "      <td>11 25, 2010</td>\n",
              "      <td>AMO214LNFCEI4</td>\n",
              "      <td>Amazon Customer</td>\n",
              "      <td>Very Disappointed</td>\n",
              "      <td>1290643200</td>\n",
              "      <td>12</td>\n",
              "      <td>15</td>\n",
              "      <td>0.800000</td>\n",
              "      <td>Im a professional OTR truck driver and I bough...</td>\n",
              "    </tr>\n",
              "    <tr>\n",
              "      <th>2</th>\n",
              "      <td>2</td>\n",
              "      <td>0528881469</td>\n",
              "      <td>[43, 45]</td>\n",
              "      <td>3</td>\n",
              "      <td>Well, what can I say.  I've had this unit in m...</td>\n",
              "      <td>09 9, 2010</td>\n",
              "      <td>A3N7T0DY83Y4IG</td>\n",
              "      <td>C. A. Freeman</td>\n",
              "      <td>1st impression</td>\n",
              "      <td>1283990400</td>\n",
              "      <td>43</td>\n",
              "      <td>45</td>\n",
              "      <td>0.955556</td>\n",
              "      <td>Well what can I say  Ive had this unit in my t...</td>\n",
              "    </tr>\n",
              "    <tr>\n",
              "      <th>3</th>\n",
              "      <td>3</td>\n",
              "      <td>0528881469</td>\n",
              "      <td>[9, 10]</td>\n",
              "      <td>2</td>\n",
              "      <td>Not going to write a long review, even thought...</td>\n",
              "      <td>11 24, 2010</td>\n",
              "      <td>A1H8PY3QHMQQA0</td>\n",
              "      <td>Dave M. Shaw \"mack dave\"</td>\n",
              "      <td>Great grafics, POOR GPS</td>\n",
              "      <td>1290556800</td>\n",
              "      <td>9</td>\n",
              "      <td>10</td>\n",
              "      <td>0.900000</td>\n",
              "      <td>Not going to write a long review even thought ...</td>\n",
              "    </tr>\n",
              "    <tr>\n",
              "      <th>4</th>\n",
              "      <td>4</td>\n",
              "      <td>0528881469</td>\n",
              "      <td>[0, 0]</td>\n",
              "      <td>1</td>\n",
              "      <td>I've had mine for a year and here's what we go...</td>\n",
              "      <td>09 29, 2011</td>\n",
              "      <td>A24EV6RXELQZ63</td>\n",
              "      <td>Wayne Smith</td>\n",
              "      <td>Major issues, only excuses for support</td>\n",
              "      <td>1317254400</td>\n",
              "      <td>0</td>\n",
              "      <td>0</td>\n",
              "      <td>NaN</td>\n",
              "      <td>Ive had mine for a year and heres what we got ...</td>\n",
              "    </tr>\n",
              "  </tbody>\n",
              "</table>\n",
              "</div>"
            ],
            "text/plain": [
              "   Unnamed: 0  ...                                             review\n",
              "0           0  ...  We got this GPS for my husband who is an OTR o...\n",
              "1           1  ...  Im a professional OTR truck driver and I bough...\n",
              "2           2  ...  Well what can I say  Ive had this unit in my t...\n",
              "3           3  ...  Not going to write a long review even thought ...\n",
              "4           4  ...  Ive had mine for a year and heres what we got ...\n",
              "\n",
              "[5 rows x 14 columns]"
            ]
          },
          "metadata": {
            "tags": []
          },
          "execution_count": 28
        }
      ]
    },
    {
      "cell_type": "code",
      "metadata": {
        "id": "08XQqKjR3B4u",
        "colab_type": "code",
        "colab": {}
      },
      "source": [
        "dataset = dataset.drop(['asin', 'helpful', 'reviewTime', 'reviewerID', 'reviewerName', 'unixReviewTime'], axis=1)"
      ],
      "execution_count": 0,
      "outputs": []
    },
    {
      "cell_type": "code",
      "metadata": {
        "id": "HHMlQO9D5KWX",
        "colab_type": "code",
        "outputId": "47907427-c77a-4563-d3ce-dd1ae3c53239",
        "colab": {
          "base_uri": "https://localhost:8080/",
          "height": 464
        }
      },
      "source": [
        "dataset.head()"
      ],
      "execution_count": 0,
      "outputs": [
        {
          "output_type": "execute_result",
          "data": {
            "text/html": [
              "<div>\n",
              "<style scoped>\n",
              "    .dataframe tbody tr th:only-of-type {\n",
              "        vertical-align: middle;\n",
              "    }\n",
              "\n",
              "    .dataframe tbody tr th {\n",
              "        vertical-align: top;\n",
              "    }\n",
              "\n",
              "    .dataframe thead th {\n",
              "        text-align: right;\n",
              "    }\n",
              "</style>\n",
              "<table border=\"1\" class=\"dataframe\">\n",
              "  <thead>\n",
              "    <tr style=\"text-align: right;\">\n",
              "      <th></th>\n",
              "      <th>Unnamed: 0</th>\n",
              "      <th>overall</th>\n",
              "      <th>reviewText</th>\n",
              "      <th>summary</th>\n",
              "      <th>helpfulobtained</th>\n",
              "      <th>totalhelpfulScore</th>\n",
              "      <th>Helpfulfactor</th>\n",
              "      <th>review</th>\n",
              "    </tr>\n",
              "  </thead>\n",
              "  <tbody>\n",
              "    <tr>\n",
              "      <th>0</th>\n",
              "      <td>0</td>\n",
              "      <td>5</td>\n",
              "      <td>We got this GPS for my husband who is an (OTR)...</td>\n",
              "      <td>Gotta have GPS!</td>\n",
              "      <td>0</td>\n",
              "      <td>0</td>\n",
              "      <td>NaN</td>\n",
              "      <td>We got this GPS for my husband who is an OTR o...</td>\n",
              "    </tr>\n",
              "    <tr>\n",
              "      <th>1</th>\n",
              "      <td>1</td>\n",
              "      <td>1</td>\n",
              "      <td>I'm a professional OTR truck driver, and I bou...</td>\n",
              "      <td>Very Disappointed</td>\n",
              "      <td>12</td>\n",
              "      <td>15</td>\n",
              "      <td>0.800000</td>\n",
              "      <td>Im a professional OTR truck driver and I bough...</td>\n",
              "    </tr>\n",
              "    <tr>\n",
              "      <th>2</th>\n",
              "      <td>2</td>\n",
              "      <td>3</td>\n",
              "      <td>Well, what can I say.  I've had this unit in m...</td>\n",
              "      <td>1st impression</td>\n",
              "      <td>43</td>\n",
              "      <td>45</td>\n",
              "      <td>0.955556</td>\n",
              "      <td>Well what can I say  Ive had this unit in my t...</td>\n",
              "    </tr>\n",
              "    <tr>\n",
              "      <th>3</th>\n",
              "      <td>3</td>\n",
              "      <td>2</td>\n",
              "      <td>Not going to write a long review, even thought...</td>\n",
              "      <td>Great grafics, POOR GPS</td>\n",
              "      <td>9</td>\n",
              "      <td>10</td>\n",
              "      <td>0.900000</td>\n",
              "      <td>Not going to write a long review even thought ...</td>\n",
              "    </tr>\n",
              "    <tr>\n",
              "      <th>4</th>\n",
              "      <td>4</td>\n",
              "      <td>1</td>\n",
              "      <td>I've had mine for a year and here's what we go...</td>\n",
              "      <td>Major issues, only excuses for support</td>\n",
              "      <td>0</td>\n",
              "      <td>0</td>\n",
              "      <td>NaN</td>\n",
              "      <td>Ive had mine for a year and heres what we got ...</td>\n",
              "    </tr>\n",
              "  </tbody>\n",
              "</table>\n",
              "</div>"
            ],
            "text/plain": [
              "   Unnamed: 0  ...                                             review\n",
              "0           0  ...  We got this GPS for my husband who is an OTR o...\n",
              "1           1  ...  Im a professional OTR truck driver and I bough...\n",
              "2           2  ...  Well what can I say  Ive had this unit in my t...\n",
              "3           3  ...  Not going to write a long review even thought ...\n",
              "4           4  ...  Ive had mine for a year and heres what we got ...\n",
              "\n",
              "[5 rows x 8 columns]"
            ]
          },
          "metadata": {
            "tags": []
          },
          "execution_count": 30
        }
      ]
    },
    {
      "cell_type": "code",
      "metadata": {
        "id": "bKI3hfNs5NUi",
        "colab_type": "code",
        "colab": {}
      },
      "source": [
        "dataset[\"Summary\"] = dataset['summary'].str.replace('([^\\w\\s])','')"
      ],
      "execution_count": 0,
      "outputs": []
    },
    {
      "cell_type": "code",
      "metadata": {
        "id": "-FNE9PJVGDBn",
        "colab_type": "code",
        "colab": {}
      },
      "source": [
        "dataset = dataset.drop(['summary'], axis=1)"
      ],
      "execution_count": 0,
      "outputs": []
    },
    {
      "cell_type": "code",
      "metadata": {
        "id": "qSr8_r1BFaj6",
        "colab_type": "code",
        "outputId": "920ad4af-ed66-43f4-f089-35b5a8eef0ac",
        "colab": {
          "base_uri": "https://localhost:8080/",
          "height": 363
        }
      },
      "source": [
        "dataset.head()"
      ],
      "execution_count": 0,
      "outputs": [
        {
          "output_type": "execute_result",
          "data": {
            "text/html": [
              "<div>\n",
              "<style scoped>\n",
              "    .dataframe tbody tr th:only-of-type {\n",
              "        vertical-align: middle;\n",
              "    }\n",
              "\n",
              "    .dataframe tbody tr th {\n",
              "        vertical-align: top;\n",
              "    }\n",
              "\n",
              "    .dataframe thead th {\n",
              "        text-align: right;\n",
              "    }\n",
              "</style>\n",
              "<table border=\"1\" class=\"dataframe\">\n",
              "  <thead>\n",
              "    <tr style=\"text-align: right;\">\n",
              "      <th></th>\n",
              "      <th>Unnamed: 0</th>\n",
              "      <th>overall</th>\n",
              "      <th>reviewText</th>\n",
              "      <th>helpfulobtained</th>\n",
              "      <th>totalhelpfulScore</th>\n",
              "      <th>Helpfulfactor</th>\n",
              "      <th>review</th>\n",
              "      <th>Summary</th>\n",
              "    </tr>\n",
              "  </thead>\n",
              "  <tbody>\n",
              "    <tr>\n",
              "      <th>0</th>\n",
              "      <td>0</td>\n",
              "      <td>5</td>\n",
              "      <td>We got this GPS for my husband who is an (OTR)...</td>\n",
              "      <td>0</td>\n",
              "      <td>0</td>\n",
              "      <td>NaN</td>\n",
              "      <td>We got this GPS for my husband who is an OTR o...</td>\n",
              "      <td>Gotta have GPS</td>\n",
              "    </tr>\n",
              "    <tr>\n",
              "      <th>1</th>\n",
              "      <td>1</td>\n",
              "      <td>1</td>\n",
              "      <td>I'm a professional OTR truck driver, and I bou...</td>\n",
              "      <td>12</td>\n",
              "      <td>15</td>\n",
              "      <td>0.800000</td>\n",
              "      <td>Im a professional OTR truck driver and I bough...</td>\n",
              "      <td>Very Disappointed</td>\n",
              "    </tr>\n",
              "    <tr>\n",
              "      <th>2</th>\n",
              "      <td>2</td>\n",
              "      <td>3</td>\n",
              "      <td>Well, what can I say.  I've had this unit in m...</td>\n",
              "      <td>43</td>\n",
              "      <td>45</td>\n",
              "      <td>0.955556</td>\n",
              "      <td>Well what can I say  Ive had this unit in my t...</td>\n",
              "      <td>1st impression</td>\n",
              "    </tr>\n",
              "    <tr>\n",
              "      <th>3</th>\n",
              "      <td>3</td>\n",
              "      <td>2</td>\n",
              "      <td>Not going to write a long review, even thought...</td>\n",
              "      <td>9</td>\n",
              "      <td>10</td>\n",
              "      <td>0.900000</td>\n",
              "      <td>Not going to write a long review even thought ...</td>\n",
              "      <td>Great grafics POOR GPS</td>\n",
              "    </tr>\n",
              "    <tr>\n",
              "      <th>4</th>\n",
              "      <td>4</td>\n",
              "      <td>1</td>\n",
              "      <td>I've had mine for a year and here's what we go...</td>\n",
              "      <td>0</td>\n",
              "      <td>0</td>\n",
              "      <td>NaN</td>\n",
              "      <td>Ive had mine for a year and heres what we got ...</td>\n",
              "      <td>Major issues only excuses for support</td>\n",
              "    </tr>\n",
              "  </tbody>\n",
              "</table>\n",
              "</div>"
            ],
            "text/plain": [
              "   Unnamed: 0  ...                                Summary\n",
              "0           0  ...                         Gotta have GPS\n",
              "1           1  ...                      Very Disappointed\n",
              "2           2  ...                         1st impression\n",
              "3           3  ...                 Great grafics POOR GPS\n",
              "4           4  ...  Major issues only excuses for support\n",
              "\n",
              "[5 rows x 8 columns]"
            ]
          },
          "metadata": {
            "tags": []
          },
          "execution_count": 33
        }
      ]
    },
    {
      "cell_type": "code",
      "metadata": {
        "id": "qtb43IogGuBr",
        "colab_type": "code",
        "colab": {}
      },
      "source": [
        "dataset['Summary'] = dataset['Summary'].str.lower()\n",
        "dataset['review'] = dataset['review'].str.lower()"
      ],
      "execution_count": 0,
      "outputs": []
    },
    {
      "cell_type": "code",
      "metadata": {
        "id": "HgVifkCBHPS5",
        "colab_type": "code",
        "outputId": "2a3f456a-6234-4fe2-e0d0-7e08fa1faa85",
        "colab": {
          "base_uri": "https://localhost:8080/",
          "height": 363
        }
      },
      "source": [
        "dataset.head()"
      ],
      "execution_count": 0,
      "outputs": [
        {
          "output_type": "execute_result",
          "data": {
            "text/html": [
              "<div>\n",
              "<style scoped>\n",
              "    .dataframe tbody tr th:only-of-type {\n",
              "        vertical-align: middle;\n",
              "    }\n",
              "\n",
              "    .dataframe tbody tr th {\n",
              "        vertical-align: top;\n",
              "    }\n",
              "\n",
              "    .dataframe thead th {\n",
              "        text-align: right;\n",
              "    }\n",
              "</style>\n",
              "<table border=\"1\" class=\"dataframe\">\n",
              "  <thead>\n",
              "    <tr style=\"text-align: right;\">\n",
              "      <th></th>\n",
              "      <th>Unnamed: 0</th>\n",
              "      <th>overall</th>\n",
              "      <th>reviewText</th>\n",
              "      <th>helpfulobtained</th>\n",
              "      <th>totalhelpfulScore</th>\n",
              "      <th>Helpfulfactor</th>\n",
              "      <th>review</th>\n",
              "      <th>Summary</th>\n",
              "    </tr>\n",
              "  </thead>\n",
              "  <tbody>\n",
              "    <tr>\n",
              "      <th>0</th>\n",
              "      <td>0</td>\n",
              "      <td>5</td>\n",
              "      <td>We got this GPS for my husband who is an (OTR)...</td>\n",
              "      <td>0</td>\n",
              "      <td>0</td>\n",
              "      <td>NaN</td>\n",
              "      <td>we got this gps for my husband who is an otr o...</td>\n",
              "      <td>gotta have gps</td>\n",
              "    </tr>\n",
              "    <tr>\n",
              "      <th>1</th>\n",
              "      <td>1</td>\n",
              "      <td>1</td>\n",
              "      <td>I'm a professional OTR truck driver, and I bou...</td>\n",
              "      <td>12</td>\n",
              "      <td>15</td>\n",
              "      <td>0.800000</td>\n",
              "      <td>im a professional otr truck driver and i bough...</td>\n",
              "      <td>very disappointed</td>\n",
              "    </tr>\n",
              "    <tr>\n",
              "      <th>2</th>\n",
              "      <td>2</td>\n",
              "      <td>3</td>\n",
              "      <td>Well, what can I say.  I've had this unit in m...</td>\n",
              "      <td>43</td>\n",
              "      <td>45</td>\n",
              "      <td>0.955556</td>\n",
              "      <td>well what can i say  ive had this unit in my t...</td>\n",
              "      <td>1st impression</td>\n",
              "    </tr>\n",
              "    <tr>\n",
              "      <th>3</th>\n",
              "      <td>3</td>\n",
              "      <td>2</td>\n",
              "      <td>Not going to write a long review, even thought...</td>\n",
              "      <td>9</td>\n",
              "      <td>10</td>\n",
              "      <td>0.900000</td>\n",
              "      <td>not going to write a long review even thought ...</td>\n",
              "      <td>great grafics poor gps</td>\n",
              "    </tr>\n",
              "    <tr>\n",
              "      <th>4</th>\n",
              "      <td>4</td>\n",
              "      <td>1</td>\n",
              "      <td>I've had mine for a year and here's what we go...</td>\n",
              "      <td>0</td>\n",
              "      <td>0</td>\n",
              "      <td>NaN</td>\n",
              "      <td>ive had mine for a year and heres what we got ...</td>\n",
              "      <td>major issues only excuses for support</td>\n",
              "    </tr>\n",
              "  </tbody>\n",
              "</table>\n",
              "</div>"
            ],
            "text/plain": [
              "   Unnamed: 0  ...                                Summary\n",
              "0           0  ...                         gotta have gps\n",
              "1           1  ...                      very disappointed\n",
              "2           2  ...                         1st impression\n",
              "3           3  ...                 great grafics poor gps\n",
              "4           4  ...  major issues only excuses for support\n",
              "\n",
              "[5 rows x 8 columns]"
            ]
          },
          "metadata": {
            "tags": []
          },
          "execution_count": 35
        }
      ]
    },
    {
      "cell_type": "code",
      "metadata": {
        "id": "EdgQi843HimT",
        "colab_type": "code",
        "colab": {}
      },
      "source": [
        "dataset = dataset.drop(['helpfulobtained', 'totalhelpfulScore'], axis=1)"
      ],
      "execution_count": 0,
      "outputs": []
    },
    {
      "cell_type": "code",
      "metadata": {
        "id": "IVtMskghGrFZ",
        "colab_type": "code",
        "colab": {}
      },
      "source": [
        "dataset = dataset.drop(['reviewText'], axis=1)"
      ],
      "execution_count": 0,
      "outputs": []
    },
    {
      "cell_type": "code",
      "metadata": {
        "id": "d1kHc58VzK1x",
        "colab_type": "code",
        "colab": {}
      },
      "source": [
        "dataset = dataset.dropna()"
      ],
      "execution_count": 0,
      "outputs": []
    },
    {
      "cell_type": "code",
      "metadata": {
        "id": "GS0pmfevJDOQ",
        "colab_type": "code",
        "outputId": "51ccde7f-a023-4a1a-a8ad-8af48576e7a0",
        "colab": {
          "base_uri": "https://localhost:8080/",
          "height": 195
        }
      },
      "source": [
        "dataset.head()"
      ],
      "execution_count": 0,
      "outputs": [
        {
          "output_type": "execute_result",
          "data": {
            "text/html": [
              "<div>\n",
              "<style scoped>\n",
              "    .dataframe tbody tr th:only-of-type {\n",
              "        vertical-align: middle;\n",
              "    }\n",
              "\n",
              "    .dataframe tbody tr th {\n",
              "        vertical-align: top;\n",
              "    }\n",
              "\n",
              "    .dataframe thead th {\n",
              "        text-align: right;\n",
              "    }\n",
              "</style>\n",
              "<table border=\"1\" class=\"dataframe\">\n",
              "  <thead>\n",
              "    <tr style=\"text-align: right;\">\n",
              "      <th></th>\n",
              "      <th>Unnamed: 0</th>\n",
              "      <th>overall</th>\n",
              "      <th>Helpfulfactor</th>\n",
              "      <th>review</th>\n",
              "      <th>Summary</th>\n",
              "    </tr>\n",
              "  </thead>\n",
              "  <tbody>\n",
              "    <tr>\n",
              "      <th>1</th>\n",
              "      <td>1</td>\n",
              "      <td>1</td>\n",
              "      <td>0.800000</td>\n",
              "      <td>im a professional otr truck driver and i bough...</td>\n",
              "      <td>very disappointed</td>\n",
              "    </tr>\n",
              "    <tr>\n",
              "      <th>2</th>\n",
              "      <td>2</td>\n",
              "      <td>3</td>\n",
              "      <td>0.955556</td>\n",
              "      <td>well what can i say  ive had this unit in my t...</td>\n",
              "      <td>1st impression</td>\n",
              "    </tr>\n",
              "    <tr>\n",
              "      <th>3</th>\n",
              "      <td>3</td>\n",
              "      <td>2</td>\n",
              "      <td>0.900000</td>\n",
              "      <td>not going to write a long review even thought ...</td>\n",
              "      <td>great grafics poor gps</td>\n",
              "    </tr>\n",
              "    <tr>\n",
              "      <th>5</th>\n",
              "      <td>5</td>\n",
              "      <td>5</td>\n",
              "      <td>1.000000</td>\n",
              "      <td>i am using this with a nook hd it works as des...</td>\n",
              "      <td>hdmi nook adapter cable</td>\n",
              "    </tr>\n",
              "    <tr>\n",
              "      <th>9</th>\n",
              "      <td>9</td>\n",
              "      <td>5</td>\n",
              "      <td>1.000000</td>\n",
              "      <td>this product really works great but i found th...</td>\n",
              "      <td>this works great but read the details</td>\n",
              "    </tr>\n",
              "  </tbody>\n",
              "</table>\n",
              "</div>"
            ],
            "text/plain": [
              "   Unnamed: 0  ...                                Summary\n",
              "1           1  ...                      very disappointed\n",
              "2           2  ...                         1st impression\n",
              "3           3  ...                 great grafics poor gps\n",
              "5           5  ...                hdmi nook adapter cable\n",
              "9           9  ...  this works great but read the details\n",
              "\n",
              "[5 rows x 5 columns]"
            ]
          },
          "metadata": {
            "tags": []
          },
          "execution_count": 39
        }
      ]
    },
    {
      "cell_type": "code",
      "metadata": {
        "id": "8ceuCFfPJFe-",
        "colab_type": "code",
        "outputId": "49837ff5-34f1-4496-c052-89d9c8183338",
        "colab": {
          "base_uri": "https://localhost:8080/",
          "height": 50
        }
      },
      "source": [
        "print(\"No of NaN values in review columns\")\n",
        "dataset['review'].isnull().sum(axis = 0)"
      ],
      "execution_count": 0,
      "outputs": [
        {
          "output_type": "stream",
          "text": [
            "No of NaN values in review columns\n"
          ],
          "name": "stdout"
        },
        {
          "output_type": "execute_result",
          "data": {
            "text/plain": [
              "0"
            ]
          },
          "metadata": {
            "tags": []
          },
          "execution_count": 40
        }
      ]
    },
    {
      "cell_type": "code",
      "metadata": {
        "id": "qrtVrHcMadVv",
        "colab_type": "code",
        "outputId": "f6da6b2f-1e11-492b-f35a-f94b23500352",
        "colab": {
          "base_uri": "https://localhost:8080/",
          "height": 50
        }
      },
      "source": [
        "print(\"No of NaN values in summary columns\")\n",
        "dataset['Summary'].isnull().sum(axis = 0)"
      ],
      "execution_count": 0,
      "outputs": [
        {
          "output_type": "stream",
          "text": [
            "No of NaN values in summary columns\n"
          ],
          "name": "stdout"
        },
        {
          "output_type": "execute_result",
          "data": {
            "text/plain": [
              "0"
            ]
          },
          "metadata": {
            "tags": []
          },
          "execution_count": 41
        }
      ]
    },
    {
      "cell_type": "code",
      "metadata": {
        "id": "5OG6VXYKHVEn",
        "colab_type": "code",
        "colab": {}
      },
      "source": [
        "indexHelpfulfactor = dataset[ (dataset['Helpfulfactor'] > 0.799999\t) & (dataset['Helpfulfactor'] < 0.800000) ].index\n",
        "dataset.drop(indexHelpfulfactor , inplace=True)"
      ],
      "execution_count": 0,
      "outputs": []
    },
    {
      "cell_type": "code",
      "metadata": {
        "id": "L1PxkdkJzTyg",
        "colab_type": "code",
        "colab": {}
      },
      "source": [
        "dataset.loc[dataset['Helpfulfactor'] >= 0.800000, 'Helpfulfactor'] = 1"
      ],
      "execution_count": 0,
      "outputs": []
    },
    {
      "cell_type": "code",
      "metadata": {
        "id": "GTsOMkctzUb1",
        "colab_type": "code",
        "colab": {}
      },
      "source": [
        "dataset.loc[dataset['Helpfulfactor'] <= 0.799999, 'Helpfulfactor'] = 0"
      ],
      "execution_count": 0,
      "outputs": []
    },
    {
      "cell_type": "code",
      "metadata": {
        "id": "bSpZ7Epowirs",
        "colab_type": "code",
        "outputId": "296c8794-bb52-42fa-bac1-a0fd46bd95eb",
        "colab": {
          "base_uri": "https://localhost:8080/",
          "height": 67
        }
      },
      "source": [
        "dataset['Helpfulfactor'].value_counts()"
      ],
      "execution_count": 0,
      "outputs": [
        {
          "output_type": "execute_result",
          "data": {
            "text/plain": [
              "1.0    450735\n",
              "0.0    256632\n",
              "Name: Helpfulfactor, dtype: int64"
            ]
          },
          "metadata": {
            "tags": []
          },
          "execution_count": 45
        }
      ]
    },
    {
      "cell_type": "code",
      "metadata": {
        "id": "3pNNNDzFhptH",
        "colab_type": "code",
        "outputId": "16b0a8d9-80ab-43c0-92b0-f0c8671cc93c",
        "colab": {
          "base_uri": "https://localhost:8080/",
          "height": 437
        }
      },
      "source": [
        "data = dataset.to_csv('ElectronicsProductReview.csv')\n",
        "from google.colab import files\n",
        "files.download('ElectronicsProductReview.csv')"
      ],
      "execution_count": 0,
      "outputs": [
        {
          "output_type": "stream",
          "text": [
            "----------------------------------------\n",
            "Exception happened during processing of request from ('::ffff:127.0.0.1', 43816, 0, 0)\n",
            "Traceback (most recent call last):\n",
            "  File \"/usr/lib/python3.6/socketserver.py\", line 317, in _handle_request_noblock\n",
            "    self.process_request(request, client_address)\n",
            "  File \"/usr/lib/python3.6/socketserver.py\", line 348, in process_request\n",
            "    self.finish_request(request, client_address)\n",
            "  File \"/usr/lib/python3.6/socketserver.py\", line 361, in finish_request\n",
            "    self.RequestHandlerClass(request, client_address, self)\n",
            "  File \"/usr/lib/python3.6/socketserver.py\", line 721, in __init__\n",
            "    self.handle()\n",
            "  File \"/usr/lib/python3.6/http/server.py\", line 418, in handle\n",
            "    self.handle_one_request()\n",
            "  File \"/usr/lib/python3.6/http/server.py\", line 406, in handle_one_request\n",
            "    method()\n",
            "  File \"/usr/lib/python3.6/http/server.py\", line 639, in do_GET\n",
            "    self.copyfile(f, self.wfile)\n",
            "  File \"/usr/lib/python3.6/http/server.py\", line 800, in copyfile\n",
            "    shutil.copyfileobj(source, outputfile)\n",
            "  File \"/usr/lib/python3.6/shutil.py\", line 82, in copyfileobj\n",
            "    fdst.write(buf)\n",
            "  File \"/usr/lib/python3.6/socketserver.py\", line 800, in write\n",
            "    self._sock.sendall(b)\n",
            "ConnectionResetError: [Errno 104] Connection reset by peer\n",
            "----------------------------------------\n"
          ],
          "name": "stderr"
        }
      ]
    },
    {
      "cell_type": "code",
      "metadata": {
        "id": "7g-9hq5Lh_cY",
        "colab_type": "code",
        "colab": {}
      },
      "source": [
        ""
      ],
      "execution_count": 0,
      "outputs": []
    }
  ]
}